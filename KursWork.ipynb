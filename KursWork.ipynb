{
  "nbformat": 4,
  "nbformat_minor": 0,
  "metadata": {
    "colab": {
      "name": "Untitled0.ipynb",
      "provenance": [],
      "collapsed_sections": []
    },
    "kernelspec": {
      "name": "python3",
      "display_name": "Python 3"
    },
    "language_info": {
      "name": "python"
    }
  },
  "cells": [
    {
      "cell_type": "markdown",
      "metadata": {
        "id": "AsWjkR8lDNsg"
      },
      "source": [
        "<left>\n",
        "    <img src=\"https://kpi.ua/files/images/kpi.png\" width=\"300\" alt=\"kpi logo\"  />\n",
        "</left>"
      ]
    },
    {
      "cell_type": "markdown",
      "metadata": {
        "id": "GDknw0l4DX8h"
      },
      "source": [
        "# Курсова робота із методів оптимізації на тему:\n",
        "##**Метод найшвидшого спуску**\n",
        "Виконала: студентка групи КМ-82, Бурлаченко Яна Борисівна\n",
        "\n",
        "#####Керівник: доктор фізико-математичних наук Норкін Богдан Володимирович\n"
      ]
    },
    {
      "cell_type": "markdown",
      "metadata": {
        "id": "TNfsy2nGDlhC"
      },
      "source": [
        "Зміст\n",
        "\n",
        "\n",
        "* Вступ\n",
        "* Постановка задачі\n",
        "* Матеріали та методи\n",
        "* Розв'язання задачі\n",
        "** Імпорт необхідних бібліотек\n",
        "** Визначення функцій\n",
        "** Обчислення\n",
        "* Висновки\n",
        "* Список використаних джерел"
      ]
    },
    {
      "cell_type": "markdown",
      "metadata": {
        "id": "WZMjLoh4FelP"
      },
      "source": [
        "**Вступ**\n",
        "\n",
        "Проблема багатовимірної оптимізації часто полягає в неможливості аналітичного відображення цільової функції. Для вирішення даної проблеми використовуються чисельні методи. В даній роботі буде описано та програмно реалізоване один з методів багатовимірної оптимізації 1-го порядку, а саме модифікований Партан метод найшвидшого спуску."
      ]
    },
    {
      "cell_type": "markdown",
      "metadata": {
        "id": "anhtGepsGZze"
      },
      "source": [
        "**Постановка задачі**\n",
        "\n",
        "Дослідити збіжність методу найшвидшого спуску та партан-методу найшвидшого спуску при мінімізації степеневої функції  в залежності від:\n",
        "* Величини кроку h при обчисленні похідних.\n",
        "* Схеми обчислення похідних.\n",
        "* Виду методу одновимірного пошуку (ДСК-Пауелла або Золотого перетину).\n",
        "* Точності методу одновимірного пошуку.\n",
        "* Значення параметру в алгоритмі Свена.\n",
        "* Вигляду критерію закінчення. \n",
        "* Порівняти з методом найшвидшого спуску.\n",
        "\n",
        "Використати метод штрафних функцій (метод внутрішньої точки) для умовної оптимізації при розташування локального мінімума поза випуклої допустимої області.\n"
      ]
    },
    {
      "cell_type": "markdown",
      "metadata": {
        "id": "oJihIk_LHHWU"
      },
      "source": [
        "**Матеріали та методи**\n",
        "\n",
        "“Партан” є скороченням від терміну\n",
        "*parallel tangents* (паралельні дотичні).\n",
        "Розглянемо загальний партан-алгоритм для\n",
        "випадку квадратичної функції двох змінних.\n",
        "\n",
        " ![photo_2021-06-03_16-44-13.jpg](data:image/jpeg;base64,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)\n",
        "\n",
        "Р1 і Р2 – будь-які дві точки площини.\n",
        "Спочатку рухаємося з Р2 паралельно\n",
        "дотичній до лінії рівня в точці Р1 до тих пір,\n",
        "поки не буде досягнуто мінімум функції f(х) у\n",
        "деякій точці Р3. Дотичні в Р1 і Р3 паралельні, а мінімум f(х) знаходиться на\n",
        "лінії, яка проходить через точки Р1 і Р3. Напрями, отримані за допомогою\n",
        "загального партан – алгоритму, є спряженими. \n"
      ]
    },
    {
      "cell_type": "markdown",
      "metadata": {
        "id": "JJJK2jm4H-Zl"
      },
      "source": [
        ""
      ]
    },
    {
      "cell_type": "code",
      "metadata": {
        "id": "-WB68AA8GPjU"
      },
      "source": [
        ""
      ],
      "execution_count": null,
      "outputs": []
    }
  ]
}